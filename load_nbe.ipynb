{
  "cells": [
    {
      "cell_type": "markdown",
      "metadata": {
        "collapsed": true,
        "pycharm": {
          "name": "#%% md\n"
        }
      },
      "source": "Loading the coil coordinates from NBS eXimia session file\n"
    },
    {
      "cell_type": "code",
      "execution_count": 2,
      "outputs": [
        {
          "name": "stdout",
          "text": [
            "[\u0027*********\\n\u0027, \u0027Subject 1\\n\u0027, \u0027*********\\n\u0027, \u0027\\n\u0027, \u0027Coordinate system: MRI coordinate system\\n\u0027, \u0027\\n\u0027, \u0027Landmarks (mm)\\n\u0027, \u0027\\n\u0027, \u0027\\tx\\ty\\tz\\tLandmark Type\\n\u0027, \u0027\\n\u0027, \u0027\\t84.6\\t107.3\\t201.5\\tMRI landmark: Nose/Nasion\\n\u0027, \u0027\\t140.9\\t78.5\\t94.8\\tMRI landmark: Left ear\\n\u0027, \u0027\\t4.1\\t90.1\\t111.3\\tMRI landmark: Right ear\\n\u0027, \u0027\\n\u0027, \u0027\\t141.6\\t77.4\\t94.5\\tScalp landmark: Left ear\\n\u0027, \u0027\\t87.5\\t108.0\\t208.5\\tScalp landmark: Nose/Nasion\\n\u0027, \u0027\\t5.2\\t87.2\\t111.4\\tScalp landmark: Right ear\\n\u0027, \u0027\\n\u0027, \u0027\\n\u0027, \u0027\\t\\t\\tTime\\tStim.\\tInter\\tFirst\\tSecond\\tTarget\\tRep.\\tPeeling\\tUser\\tCoil\\t\\t\\tCoil\\t\\t\\tCoil\\t\\t\\tEF max.\\t\\t\\tEF max.\\tEF at \\tCh1 \\tCh1 \\tCh2 \\tCh2 \\tCh3 \\tCh3 \\tCh4 \\tCh4 \\tCh5 \\tCh5 \\tCh6 \\tCh6\\n\u0027, \u0027\\t\\tID\\t(ms)\\tType\\tpulse\\tIntens.\\tIntens.\\tID\\tStim.\\tDepth\\tResp.\\tLoc.\\t\\t\\tNormal\\t\\t\\tDir.\\t\\t\\tLoc.\\t\\t\\tValue\\tTarget\\tAmp. \\tLat. \\tAmp. \\tLat. \\tAmp. \\tLat. \\tAmp. \\tLat. \\tAmp. \\tLat. \\tAmp. \\tLat.\\n\u0027, \u0027\\t\\t\\t\\t\\tInt.\\t(%)\\t(%)\\t\\tID\\t(%)\\t\\tx\\ty\\tz\\tx\\ty\\tz\\tx\\ty\\tz\\tx\\ty\\tz\\t(V/m)\\t(V/m)\\t(ÂµV)\\t(ms)\\t(ÂµV)\\t(ms)\\t(ÂµV)\\t(ms)\\t(ÂµV)\\t(ms)\\t(ÂµV)\\t(ms)\\t(ÂµV)\\t(ms)\\n\u0027, \u0027\\t\\t\\t\\t\\t(ms)\\t\\t\\t\\t\\t\\t\\t(mm)\\t(mm)\\t(mm)\\t\\t\\t\\t\\t\\t\\t(mm)\\t(mm)\\t(mm)\\n\u0027, \u0027\\n\u0027, \u0027\\t\\t1.2.11.\\t96286\\tSingle\\t-\\t27\\t-\\t-\\t-\\t19.2\\t-\\t130.6\\t192.5\\t103.7\\t0.7584\\t0.6509\\t-0.0339\\t-0.1679\\t0.2453\\t0.9548\\t115.0\\t175.4\\t99.4\\t54.9\\t-\\t1247\\t24.0\\t1518\\t22.0\\t245\\t24.0\\t-\\t-\\t-\\t-\\t-\\t-\\t\\n\u0027]\n"
          ],
          "output_type": "stream"
        }
      ],
      "source": "filename \u003d \u0027s01_eximia_coords.txt\u0027\nwith open(filename, \u0027r\u0027) as f:\n    x \u003d f.readlines()\n\nprint(x)\n\nsubj \u003d x[1]\n",
      "metadata": {
        "pycharm": {
          "metadata": false,
          "name": "#%%\n",
          "is_executing": false
        }
      }
    },
    {
      "cell_type": "code",
      "execution_count": 4,
      "outputs": [
        {
          "name": "stdout",
          "text": [
            "*********\n\nSubject 1\n\n\t84.6\t107.3\t201.5\tMRI landmark: Nose/Nasion\n\n"
          ],
          "output_type": "stream"
        }
      ],
      "source": "print(x[0])\nsubj \u003d x[1]\nprint(subj)\n\nnasion \u003d x[10]\nleftear \u003d x[11]\nrightear \u003d x[12]\n\nprint(nasion)\n\n",
      "metadata": {
        "pycharm": {
          "metadata": false,
          "name": "#%%\n",
          "is_executing": false
        }
      }
    },
    {
      "cell_type": "code",
      "execution_count": null,
      "outputs": [],
      "source": "\n\n\n",
      "metadata": {
        "pycharm": {
          "metadata": false,
          "name": "#%%\n"
        }
      }
    }
  ],
  "metadata": {
    "language_info": {
      "codemirror_mode": {
        "name": "ipython",
        "version": 2
      },
      "file_extension": ".py",
      "mimetype": "text/x-python",
      "name": "python",
      "nbconvert_exporter": "python",
      "pygments_lexer": "ipython2",
      "version": "2.7.6"
    },
    "kernelspec": {
      "name": "python3",
      "language": "python",
      "display_name": "Python 3"
    }
  },
  "nbformat": 4,
  "nbformat_minor": 0
}